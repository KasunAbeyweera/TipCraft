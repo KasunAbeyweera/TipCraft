{
 "cells": [
  {
   "cell_type": "markdown",
   "source": [
    "# Importing Libraries"
   ],
   "metadata": {
    "collapsed": false
   },
   "id": "c2cbbe574c6b0c8b"
  },
  {
   "cell_type": "code",
   "execution_count": 1,
   "outputs": [],
   "source": [
    "import numpy as np\n",
    "import pandas as pd\n",
    "from tensorflow.keras.models import load_model\n",
    "from tensorflow.keras.layers import Layer, InputSpec, Dense, Input\n",
    "from mpl_toolkits.mplot3d import Axes3D\n",
    "from sklearn.preprocessing import StandardScaler\n",
    "from sklearn.cluster import KMeans\n",
    "from sklearn.decomposition import PCA\n",
    "from tensorflow.keras import backend as K\n",
    "from sklearn.preprocessing import StandardScaler\n"
   ],
   "metadata": {
    "collapsed": false,
    "ExecuteTime": {
     "start_time": "2023-12-01T20:26:26.072161600Z"
    }
   },
   "id": "14d1723e9c6cd3c9"
  },
  {
   "cell_type": "markdown",
   "source": [
    "# Load the entire model from the HDF5 file with custom_objects"
   ],
   "metadata": {
    "collapsed": false
   },
   "id": "ae4541c6da618ac"
  },
  {
   "cell_type": "code",
   "execution_count": null,
   "outputs": [],
   "source": [
    "class ClusteringLayer(Layer):\n",
    "    def __init__(self, n_clusters, weights=None, alpha=1.0, **kwargs):\n",
    "        super(ClusteringLayer, self).__init__(**kwargs)\n",
    "        self.n_clusters = n_clusters\n",
    "        self.alpha = alpha\n",
    "        self.initial_weights = weights\n",
    "        self.input_spec = InputSpec(ndim=2)\n",
    "\n",
    "    def build(self, input_shape):\n",
    "        assert len(input_shape) == 2\n",
    "        input_dim = input_shape[1]\n",
    "        self.input_spec = InputSpec(dtype='float32', shape=(None, input_dim))\n",
    "        self.clusters = self.add_weight(shape=(self.n_clusters, input_dim), initializer='glorot_uniform',\n",
    "                                        name='clusters')\n",
    "        if self.initial_weights is not None:\n",
    "            self.set_weights(self.initial_weights)\n",
    "            del self.initial_weights\n",
    "        self.built = True\n",
    "\n",
    "    def call(self, inputs, **kwargs):\n",
    "        q = 1.0 / (1.0 + (K.sum(K.square(K.expand_dims(inputs, axis=1) - self.clusters), axis=2) / self.alpha))\n",
    "        q **= (self.alpha + 1.0) / 2.0\n",
    "        q = K.transpose(K.transpose(q) / K.sum(q, axis=1))\n",
    "        return q\n",
    "\n",
    "    def compute_output_shape(self, input_shape):\n",
    "        assert input_shape and len(input_shape) == 2\n",
    "        return input_shape[0], self.n_clusters\n",
    "\n",
    "# Load the entire model from the HDF5 file with custom_objects\n",
    "loaded_autoencoder = load_model(\"autoencoder_model_dec.h5\")\n",
    "loaded_dec_model = load_model(\"dec_model.h5\", custom_objects={'ClusteringLayer': ClusteringLayer})\n"
   ],
   "metadata": {
    "collapsed": false
   },
   "id": "31e924e81186a084"
  },
  {
   "cell_type": "markdown",
   "source": [
    "# Load the dataset and labelling the clusters"
   ],
   "metadata": {
    "collapsed": false
   },
   "id": "36ea8cd407e53d97"
  },
  {
   "cell_type": "code",
   "execution_count": 8,
   "outputs": [
    {
     "name": "stdout",
     "output_type": "stream",
     "text": [
      "   cluster_dec   count\n",
      "0            0  467603\n",
      "1            1     300\n",
      "2            2     253\n",
      "3            3     343\n",
      "4            4    3325\n",
      "5            5  764632\n",
      "6            6   22333\n",
      "7            7   61927\n",
      "8            8  667181\n"
     ]
    }
   ],
   "source": [
    "user_df = pd.read_csv(\"C:\\\\Users\\\\kasun\\\\Downloads\\\\yelp\\\\data\\\\yelp_academic_dataset_user_preprocessed.csv\")\n",
    "\n",
    "# Extract 'user_id' column\n",
    "user_ids = user_df['user_id']\n",
    "\n",
    "numeric_features = user_df.drop(['user_id', 'num', 'name', 'compliment_hot', 'compliment_more', 'compliment_profile', 'compliment_cute', 'compliment_list', 'compliment_note', 'compliment_plain', 'compliment_cool', 'compliment_funny', 'compliment_writer', 'compliment_photos'], axis=1)\n",
    "\n",
    "scaler = StandardScaler()\n",
    "scaled_data = scaler.fit_transform(numeric_features)\n",
    "\n",
    "q, original_representations = loaded_dec_model.predict(scaled_data)\n",
    "original_cluster_assignments = np.argmax(q, axis=1)\n",
    "\n",
    "# Add cluster labels and 3D representations to the original dataset\n",
    "user_df['cluster_dec'] = original_cluster_assignments\n",
    "user_df['representation_1'] = original_representations[:, 0]\n",
    "user_df['representation_2'] = original_representations[:, 1]\n",
    "user_df['representation_3'] = original_representations[:, 2]\n",
    "\n",
    "\n",
    "\n",
    "# Convert representations to Pinecone-compatible format\n",
    "representations_as_arrays = user_df[['representation_1', 'representation_2', 'representation_3']].to_numpy()\n",
    "\n",
    "# Flatten the arrays into a single-dimensional array\n",
    "representations_as_vectors = representations_as_arrays.flatten()\n",
    "\n",
    "user_df['representations_as_vectors_dec'] = user_df[['representation_1', 'representation_2', 'representation_3']].values.tolist()\n",
    "# Add back the 'user_id'\n",
    "user_df['user_id'] = user_ids\n",
    "\n",
    "original_cluster_counts = user_df.groupby('cluster_dec').size().reset_index(name='count')\n",
    "print(original_cluster_counts)\n"
   ],
   "metadata": {
    "collapsed": false,
    "ExecuteTime": {
     "end_time": "2023-12-01T20:32:05.376980200Z",
     "start_time": "2023-12-01T20:31:42.564792800Z"
    }
   },
   "id": "93599912baf71f42"
  },
  {
   "cell_type": "code",
   "execution_count": 9,
   "outputs": [
    {
     "data": {
      "text/plain": "   num                 user_id    name  review_count  useful  funny   cool  \\\n0    0  qVc8ODYU5SZjKXVBgXdI7w  Walker           585    7217   1259   5994   \n1    1  j14WgRoU_-2ZE1aw1dXrJg  Daniel          4333   43091  13066  27281   \n2    2  2WnXYQFK0hXEoTxPtV2zvg   Steph           665    2086   1010   1003   \n3    3  SZDeASXq7o05mMNLshsdIA    Gwen           224     512    330    299   \n4    4  hA5lMy-EnncsH4JoR-hFGQ   Karen            79      29     15      7   \n\n   fans  average_stars  compliment_hot  ...  compliment_writer  \\\n0   267           3.91             250  ...                239   \n1  3138           3.74            1145  ...               1521   \n2    52           3.32              89  ...                 35   \n3    28           4.27              24  ...                 10   \n4     1           3.54               1  ...                  0   \n\n   compliment_photos  elite_years  is_elite  years_on_platform  cluster_dec  \\\n0                180            1         1                 16            4   \n1               1946           14         1                 14            4   \n2                 18            5         1                 15            0   \n3                  9            3         1                 18            7   \n4                  0            0         0                 16            8   \n\n   representation_1  representation_2  representation_3  \\\n0          0.163887          0.165749          0.164215   \n1          0.166433          0.166330          0.166578   \n2          0.163177          0.172831          0.163703   \n3          0.158310          0.180835          0.160942   \n4          0.167469          0.168774          0.167819   \n\n                      representations_as_vectors_dec  \n0  [0.16388708353042603, 0.16574923694133759, 0.1...  \n1  [0.1664333939552307, 0.16633014380931854, 0.16...  \n2  [0.16317729651927948, 0.17283140122890472, 0.1...  \n3  [0.1583097130060196, 0.18083520233631134, 0.16...  \n4  [0.16746939718723297, 0.16877354681491852, 0.1...  \n\n[5 rows x 28 columns]",
      "text/html": "<div>\n<style scoped>\n    .dataframe tbody tr th:only-of-type {\n        vertical-align: middle;\n    }\n\n    .dataframe tbody tr th {\n        vertical-align: top;\n    }\n\n    .dataframe thead th {\n        text-align: right;\n    }\n</style>\n<table border=\"1\" class=\"dataframe\">\n  <thead>\n    <tr style=\"text-align: right;\">\n      <th></th>\n      <th>num</th>\n      <th>user_id</th>\n      <th>name</th>\n      <th>review_count</th>\n      <th>useful</th>\n      <th>funny</th>\n      <th>cool</th>\n      <th>fans</th>\n      <th>average_stars</th>\n      <th>compliment_hot</th>\n      <th>...</th>\n      <th>compliment_writer</th>\n      <th>compliment_photos</th>\n      <th>elite_years</th>\n      <th>is_elite</th>\n      <th>years_on_platform</th>\n      <th>cluster_dec</th>\n      <th>representation_1</th>\n      <th>representation_2</th>\n      <th>representation_3</th>\n      <th>representations_as_vectors_dec</th>\n    </tr>\n  </thead>\n  <tbody>\n    <tr>\n      <th>0</th>\n      <td>0</td>\n      <td>qVc8ODYU5SZjKXVBgXdI7w</td>\n      <td>Walker</td>\n      <td>585</td>\n      <td>7217</td>\n      <td>1259</td>\n      <td>5994</td>\n      <td>267</td>\n      <td>3.91</td>\n      <td>250</td>\n      <td>...</td>\n      <td>239</td>\n      <td>180</td>\n      <td>1</td>\n      <td>1</td>\n      <td>16</td>\n      <td>4</td>\n      <td>0.163887</td>\n      <td>0.165749</td>\n      <td>0.164215</td>\n      <td>[0.16388708353042603, 0.16574923694133759, 0.1...</td>\n    </tr>\n    <tr>\n      <th>1</th>\n      <td>1</td>\n      <td>j14WgRoU_-2ZE1aw1dXrJg</td>\n      <td>Daniel</td>\n      <td>4333</td>\n      <td>43091</td>\n      <td>13066</td>\n      <td>27281</td>\n      <td>3138</td>\n      <td>3.74</td>\n      <td>1145</td>\n      <td>...</td>\n      <td>1521</td>\n      <td>1946</td>\n      <td>14</td>\n      <td>1</td>\n      <td>14</td>\n      <td>4</td>\n      <td>0.166433</td>\n      <td>0.166330</td>\n      <td>0.166578</td>\n      <td>[0.1664333939552307, 0.16633014380931854, 0.16...</td>\n    </tr>\n    <tr>\n      <th>2</th>\n      <td>2</td>\n      <td>2WnXYQFK0hXEoTxPtV2zvg</td>\n      <td>Steph</td>\n      <td>665</td>\n      <td>2086</td>\n      <td>1010</td>\n      <td>1003</td>\n      <td>52</td>\n      <td>3.32</td>\n      <td>89</td>\n      <td>...</td>\n      <td>35</td>\n      <td>18</td>\n      <td>5</td>\n      <td>1</td>\n      <td>15</td>\n      <td>0</td>\n      <td>0.163177</td>\n      <td>0.172831</td>\n      <td>0.163703</td>\n      <td>[0.16317729651927948, 0.17283140122890472, 0.1...</td>\n    </tr>\n    <tr>\n      <th>3</th>\n      <td>3</td>\n      <td>SZDeASXq7o05mMNLshsdIA</td>\n      <td>Gwen</td>\n      <td>224</td>\n      <td>512</td>\n      <td>330</td>\n      <td>299</td>\n      <td>28</td>\n      <td>4.27</td>\n      <td>24</td>\n      <td>...</td>\n      <td>10</td>\n      <td>9</td>\n      <td>3</td>\n      <td>1</td>\n      <td>18</td>\n      <td>7</td>\n      <td>0.158310</td>\n      <td>0.180835</td>\n      <td>0.160942</td>\n      <td>[0.1583097130060196, 0.18083520233631134, 0.16...</td>\n    </tr>\n    <tr>\n      <th>4</th>\n      <td>4</td>\n      <td>hA5lMy-EnncsH4JoR-hFGQ</td>\n      <td>Karen</td>\n      <td>79</td>\n      <td>29</td>\n      <td>15</td>\n      <td>7</td>\n      <td>1</td>\n      <td>3.54</td>\n      <td>1</td>\n      <td>...</td>\n      <td>0</td>\n      <td>0</td>\n      <td>0</td>\n      <td>0</td>\n      <td>16</td>\n      <td>8</td>\n      <td>0.167469</td>\n      <td>0.168774</td>\n      <td>0.167819</td>\n      <td>[0.16746939718723297, 0.16877354681491852, 0.1...</td>\n    </tr>\n  </tbody>\n</table>\n<p>5 rows × 28 columns</p>\n</div>"
     },
     "execution_count": 9,
     "metadata": {},
     "output_type": "execute_result"
    }
   ],
   "source": [
    "user_df.head()"
   ],
   "metadata": {
    "collapsed": false,
    "ExecuteTime": {
     "end_time": "2023-12-01T20:32:52.992316100Z",
     "start_time": "2023-12-01T20:32:52.963255100Z"
    }
   },
   "id": "cdd39c2ee5ae7bcb"
  },
  {
   "cell_type": "code",
   "execution_count": 10,
   "outputs": [],
   "source": [
    "user_df.drop(['num', 'representation_1', 'representation_2', 'representation_3'], axis=1, inplace=True)"
   ],
   "metadata": {
    "collapsed": false,
    "ExecuteTime": {
     "end_time": "2023-12-01T20:33:54.971162400Z",
     "start_time": "2023-12-01T20:33:54.775705300Z"
    }
   },
   "id": "69ce536ca1af06"
  },
  {
   "cell_type": "code",
   "execution_count": 11,
   "outputs": [
    {
     "data": {
      "text/plain": "                  user_id    name  review_count  useful  funny   cool  fans  \\\n0  qVc8ODYU5SZjKXVBgXdI7w  Walker           585    7217   1259   5994   267   \n1  j14WgRoU_-2ZE1aw1dXrJg  Daniel          4333   43091  13066  27281  3138   \n2  2WnXYQFK0hXEoTxPtV2zvg   Steph           665    2086   1010   1003    52   \n3  SZDeASXq7o05mMNLshsdIA    Gwen           224     512    330    299    28   \n4  hA5lMy-EnncsH4JoR-hFGQ   Karen            79      29     15      7     1   \n\n   average_stars  compliment_hot  compliment_more  ...  compliment_plain  \\\n0           3.91             250               65  ...               844   \n1           3.74            1145              264  ...              7054   \n2           3.32              89               13  ...                96   \n3           4.27              24                4  ...                16   \n4           3.54               1                1  ...                 1   \n\n   compliment_cool  compliment_funny  compliment_writer  compliment_photos  \\\n0              467               467                239                180   \n1             3131              3131               1521               1946   \n2              119               119                 35                 18   \n3               26                26                 10                  9   \n4                0                 0                  0                  0   \n\n   elite_years  is_elite  years_on_platform  cluster_dec  \\\n0            1         1                 16            4   \n1           14         1                 14            4   \n2            5         1                 15            0   \n3            3         1                 18            7   \n4            0         0                 16            8   \n\n                      representations_as_vectors_dec  \n0  [0.16388708353042603, 0.16574923694133759, 0.1...  \n1  [0.1664333939552307, 0.16633014380931854, 0.16...  \n2  [0.16317729651927948, 0.17283140122890472, 0.1...  \n3  [0.1583097130060196, 0.18083520233631134, 0.16...  \n4  [0.16746939718723297, 0.16877354681491852, 0.1...  \n\n[5 rows x 24 columns]",
      "text/html": "<div>\n<style scoped>\n    .dataframe tbody tr th:only-of-type {\n        vertical-align: middle;\n    }\n\n    .dataframe tbody tr th {\n        vertical-align: top;\n    }\n\n    .dataframe thead th {\n        text-align: right;\n    }\n</style>\n<table border=\"1\" class=\"dataframe\">\n  <thead>\n    <tr style=\"text-align: right;\">\n      <th></th>\n      <th>user_id</th>\n      <th>name</th>\n      <th>review_count</th>\n      <th>useful</th>\n      <th>funny</th>\n      <th>cool</th>\n      <th>fans</th>\n      <th>average_stars</th>\n      <th>compliment_hot</th>\n      <th>compliment_more</th>\n      <th>...</th>\n      <th>compliment_plain</th>\n      <th>compliment_cool</th>\n      <th>compliment_funny</th>\n      <th>compliment_writer</th>\n      <th>compliment_photos</th>\n      <th>elite_years</th>\n      <th>is_elite</th>\n      <th>years_on_platform</th>\n      <th>cluster_dec</th>\n      <th>representations_as_vectors_dec</th>\n    </tr>\n  </thead>\n  <tbody>\n    <tr>\n      <th>0</th>\n      <td>qVc8ODYU5SZjKXVBgXdI7w</td>\n      <td>Walker</td>\n      <td>585</td>\n      <td>7217</td>\n      <td>1259</td>\n      <td>5994</td>\n      <td>267</td>\n      <td>3.91</td>\n      <td>250</td>\n      <td>65</td>\n      <td>...</td>\n      <td>844</td>\n      <td>467</td>\n      <td>467</td>\n      <td>239</td>\n      <td>180</td>\n      <td>1</td>\n      <td>1</td>\n      <td>16</td>\n      <td>4</td>\n      <td>[0.16388708353042603, 0.16574923694133759, 0.1...</td>\n    </tr>\n    <tr>\n      <th>1</th>\n      <td>j14WgRoU_-2ZE1aw1dXrJg</td>\n      <td>Daniel</td>\n      <td>4333</td>\n      <td>43091</td>\n      <td>13066</td>\n      <td>27281</td>\n      <td>3138</td>\n      <td>3.74</td>\n      <td>1145</td>\n      <td>264</td>\n      <td>...</td>\n      <td>7054</td>\n      <td>3131</td>\n      <td>3131</td>\n      <td>1521</td>\n      <td>1946</td>\n      <td>14</td>\n      <td>1</td>\n      <td>14</td>\n      <td>4</td>\n      <td>[0.1664333939552307, 0.16633014380931854, 0.16...</td>\n    </tr>\n    <tr>\n      <th>2</th>\n      <td>2WnXYQFK0hXEoTxPtV2zvg</td>\n      <td>Steph</td>\n      <td>665</td>\n      <td>2086</td>\n      <td>1010</td>\n      <td>1003</td>\n      <td>52</td>\n      <td>3.32</td>\n      <td>89</td>\n      <td>13</td>\n      <td>...</td>\n      <td>96</td>\n      <td>119</td>\n      <td>119</td>\n      <td>35</td>\n      <td>18</td>\n      <td>5</td>\n      <td>1</td>\n      <td>15</td>\n      <td>0</td>\n      <td>[0.16317729651927948, 0.17283140122890472, 0.1...</td>\n    </tr>\n    <tr>\n      <th>3</th>\n      <td>SZDeASXq7o05mMNLshsdIA</td>\n      <td>Gwen</td>\n      <td>224</td>\n      <td>512</td>\n      <td>330</td>\n      <td>299</td>\n      <td>28</td>\n      <td>4.27</td>\n      <td>24</td>\n      <td>4</td>\n      <td>...</td>\n      <td>16</td>\n      <td>26</td>\n      <td>26</td>\n      <td>10</td>\n      <td>9</td>\n      <td>3</td>\n      <td>1</td>\n      <td>18</td>\n      <td>7</td>\n      <td>[0.1583097130060196, 0.18083520233631134, 0.16...</td>\n    </tr>\n    <tr>\n      <th>4</th>\n      <td>hA5lMy-EnncsH4JoR-hFGQ</td>\n      <td>Karen</td>\n      <td>79</td>\n      <td>29</td>\n      <td>15</td>\n      <td>7</td>\n      <td>1</td>\n      <td>3.54</td>\n      <td>1</td>\n      <td>1</td>\n      <td>...</td>\n      <td>1</td>\n      <td>0</td>\n      <td>0</td>\n      <td>0</td>\n      <td>0</td>\n      <td>0</td>\n      <td>0</td>\n      <td>16</td>\n      <td>8</td>\n      <td>[0.16746939718723297, 0.16877354681491852, 0.1...</td>\n    </tr>\n  </tbody>\n</table>\n<p>5 rows × 24 columns</p>\n</div>"
     },
     "execution_count": 11,
     "metadata": {},
     "output_type": "execute_result"
    }
   ],
   "source": [
    "user_df.head()"
   ],
   "metadata": {
    "collapsed": false,
    "ExecuteTime": {
     "end_time": "2023-12-01T20:34:01.343038500Z",
     "start_time": "2023-12-01T20:34:01.273938100Z"
    }
   },
   "id": "5ff270b2b18f3f61"
  },
  {
   "cell_type": "code",
   "execution_count": 12,
   "outputs": [],
   "source": [
    "user_df.to_csv(\"user_with_clusters.csv\", index=False)"
   ],
   "metadata": {
    "collapsed": false,
    "ExecuteTime": {
     "end_time": "2023-12-01T20:39:16.998413500Z",
     "start_time": "2023-12-01T20:39:04.641289800Z"
    }
   },
   "id": "d4d5e6775bdde519"
  }
 ],
 "metadata": {
  "kernelspec": {
   "display_name": "Python 3",
   "language": "python",
   "name": "python3"
  },
  "language_info": {
   "codemirror_mode": {
    "name": "ipython",
    "version": 2
   },
   "file_extension": ".py",
   "mimetype": "text/x-python",
   "name": "python",
   "nbconvert_exporter": "python",
   "pygments_lexer": "ipython2",
   "version": "2.7.6"
  }
 },
 "nbformat": 4,
 "nbformat_minor": 5
}

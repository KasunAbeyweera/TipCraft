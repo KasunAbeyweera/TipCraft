{
 "cells": [
  {
   "cell_type": "code",
   "execution_count": 35,
   "outputs": [],
   "source": [
    "import pandas as pd\n",
    "import pinecone\n",
    "\n",
    "pinecone.init(      \n",
    "    api_key='', \n",
    "    environment='eastus-azure'      \n",
    ")\n",
    "\n",
    "index_name = 'tipcraft'\n",
    "namespace = 'cluster_auto'\n",
    "\n"
   ],
   "metadata": {
    "collapsed": false,
    "ExecuteTime": {
     "end_time": "2023-12-02T05:46:52.512607400Z",
     "start_time": "2023-12-02T05:46:51.673281800Z"
    }
   },
   "id": "46ade626157fc813"
  },
  {
   "cell_type": "code",
   "execution_count": null,
   "outputs": [],
   "source": [
    "csv_file_path = 'C:\\\\Users\\\\kasun\\\\Downloads\\\\TipCraftHub\\\\notebooks\\\\user_with_clusters_final.csv'\n",
    "df = pd.read_csv(csv_file_path)"
   ],
   "metadata": {
    "collapsed": false
   },
   "id": "23cfd9d21a580d2c"
  },
  {
   "cell_type": "code",
   "execution_count": 36,
   "outputs": [],
   "source": [
    "pinecone_index = pinecone.Index(index_name)\n",
    "batch_size = 1000\n",
    "vectors_to_upsert = []\n",
    "\n",
    "start_index = 0 \n",
    "\n",
    "for _, row in df.iloc[start_index:].iterrows():\n",
    "    user_id = row['user_id']\n",
    "    dense_vector = row['representations_as_vectors_auto']\n",
    "    \n",
    "\n",
    "    dense_vector = [float(value) for value in dense_vector[1:-1].split(',')]\n",
    "    \n",
    "    vector_data = {'id': str(user_id), 'values': dense_vector, 'metadata': {'id': user_id, 'cluster': row['cluster_auto'],'model_name':'cluster_auto'}}\n",
    "    vectors_to_upsert.append(vector_data)\n",
    "    \n",
    "    if len(vectors_to_upsert) == batch_size:\n",
    "        upsert_response = pinecone_index.upsert(vectors=vectors_to_upsert,namespace=namespace)\n",
    "        vectors_to_upsert = []\n",
    "\n",
    "if vectors_to_upsert:\n",
    "    upsert_response = pinecone_index.upsert(vectors=vectors_to_upsert,namespace=namespace)\n"
   ],
   "metadata": {
    "collapsed": false,
    "ExecuteTime": {
     "end_time": "2023-12-02T06:02:24.172044100Z",
     "start_time": "2023-12-02T05:47:14.713335100Z"
    }
   },
   "id": "6332480a3f07d1b8"
  },
  {
   "cell_type": "code",
   "execution_count": 31,
   "outputs": [],
   "source": [
    "\n",
    "\n",
    "# index = pinecone.Index(index_name,namespace=namespace)\n",
    "# delete_response = index.delete(delete_all=True)"
   ],
   "metadata": {
    "collapsed": false,
    "ExecuteTime": {
     "start_time": "2023-12-02T05:20:22.424564800Z"
    }
   },
   "id": "e0927c6a98624f16"
  }
 ],
 "metadata": {
  "kernelspec": {
   "display_name": "Python 3",
   "language": "python",
   "name": "python3"
  },
  "language_info": {
   "codemirror_mode": {
    "name": "ipython",
    "version": 2
   },
   "file_extension": ".py",
   "mimetype": "text/x-python",
   "name": "python",
   "nbconvert_exporter": "python",
   "pygments_lexer": "ipython2",
   "version": "2.7.6"
  }
 },
 "nbformat": 4,
 "nbformat_minor": 5
}

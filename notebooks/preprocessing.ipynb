{
 "cells": [
  {
   "cell_type": "code",
   "execution_count": 1,
   "metadata": {
    "collapsed": true,
    "ExecuteTime": {
     "end_time": "2023-11-30T05:33:42.316475600Z",
     "start_time": "2023-11-30T05:28:44.688357500Z"
    }
   },
   "outputs": [
    {
     "name": "stdout",
     "output_type": "stream",
     "text": [
      "                        user_id     name  review_count        yelping_since  \\\n",
      "0        qVc8ODYU5SZjKXVBgXdI7w   Walker           585  2007-01-25 16:47:26   \n",
      "1        j14WgRoU_-2ZE1aw1dXrJg   Daniel          4333  2009-01-25 04:35:42   \n",
      "2        2WnXYQFK0hXEoTxPtV2zvg    Steph           665  2008-07-25 10:41:00   \n",
      "3        SZDeASXq7o05mMNLshsdIA     Gwen           224  2005-11-29 04:38:33   \n",
      "4        hA5lMy-EnncsH4JoR-hFGQ    Karen            79  2007-01-05 19:40:59   \n",
      "...                         ...      ...           ...                  ...   \n",
      "1987892  fB3jbHi3m0L2KgGOxBv6uw  Jerrold            23  2015-01-06 00:31:31   \n",
      "1987893  68czcr4BxJyMQ9cJBm6C7Q     Jane             1  2016-06-14 07:20:52   \n",
      "1987894  1x3KMskYxOuJCjRz70xOqQ  Shomari             4  2017-02-04 15:31:58   \n",
      "1987895  ulfGl4tdbrH05xKzh5lnog  Susanne             2  2011-01-14 00:29:08   \n",
      "1987896  wL5jPrLRVCK_Pmo4lM1zpA      Isa             2  2020-12-19 02:32:39   \n",
      "\n",
      "         useful  funny   cool  \\\n",
      "0          7217   1259   5994   \n",
      "1         43091  13066  27281   \n",
      "2          2086   1010   1003   \n",
      "3           512    330    299   \n",
      "4            29     15      7   \n",
      "...         ...    ...    ...   \n",
      "1987892       7      0      0   \n",
      "1987893       0      0      0   \n",
      "1987894       1      1      0   \n",
      "1987895       0      0      0   \n",
      "1987896       0      0      0   \n",
      "\n",
      "                                                     elite  fans  \\\n",
      "0                                                     2007   267   \n",
      "1        2009,2010,2011,2012,2013,2014,2015,2016,2017,2...  3138   \n",
      "2                                 2009,2010,2011,2012,2013    52   \n",
      "3                                           2009,2010,2011    28   \n",
      "4                                                              1   \n",
      "...                                                    ...   ...   \n",
      "1987892                                                        0   \n",
      "1987893                                                        0   \n",
      "1987894                                                        0   \n",
      "1987895                                                        0   \n",
      "1987896                                                        0   \n",
      "\n",
      "         average_stars  ...  compliment_more  compliment_profile  \\\n",
      "0                 3.91  ...               65                  55   \n",
      "1                 3.74  ...              264                 184   \n",
      "2                 3.32  ...               13                  10   \n",
      "3                 4.27  ...                4                   1   \n",
      "4                 3.54  ...                1                   0   \n",
      "...                ...  ...              ...                 ...   \n",
      "1987892           4.92  ...                0                   0   \n",
      "1987893           5.00  ...                0                   0   \n",
      "1987894           2.00  ...                0                   0   \n",
      "1987895           3.00  ...                0                   0   \n",
      "1987896           5.00  ...                0                   0   \n",
      "\n",
      "         compliment_cute  compliment_list  compliment_note  compliment_plain  \\\n",
      "0                     56               18              232               844   \n",
      "1                    157              251             1847              7054   \n",
      "2                     17                3               66                96   \n",
      "3                      6                2               12                16   \n",
      "4                      0                0                1                 1   \n",
      "...                  ...              ...              ...               ...   \n",
      "1987892                0                0                0                 0   \n",
      "1987893                0                0                0                 0   \n",
      "1987894                0                0                0                 0   \n",
      "1987895                0                0                0                 0   \n",
      "1987896                0                0                0                 0   \n",
      "\n",
      "         compliment_cool  compliment_funny  compliment_writer  \\\n",
      "0                    467               467                239   \n",
      "1                   3131              3131               1521   \n",
      "2                    119               119                 35   \n",
      "3                     26                26                 10   \n",
      "4                      0                 0                  0   \n",
      "...                  ...               ...                ...   \n",
      "1987892                0                 0                  0   \n",
      "1987893                0                 0                  0   \n",
      "1987894                0                 0                  0   \n",
      "1987895                0                 0                  0   \n",
      "1987896                0                 0                  0   \n",
      "\n",
      "         compliment_photos  \n",
      "0                      180  \n",
      "1                     1946  \n",
      "2                       18  \n",
      "3                        9  \n",
      "4                        0  \n",
      "...                    ...  \n",
      "1987892                  0  \n",
      "1987893                  0  \n",
      "1987894                  0  \n",
      "1987895                  0  \n",
      "1987896                  0  \n",
      "\n",
      "[1987897 rows x 21 columns]\n"
     ]
    }
   ],
   "source": [
    "import pandas as pd\n",
    "from datetime import datetime\n",
    "\n",
    "json_file_path = 'C:\\\\Users\\\\kasun\\\\Downloads\\\\yelp\\\\data\\\\yelp_academic_dataset_user.json'\n",
    "\n",
    "# Create a generator to read the JSON file in chunks\n",
    "def read_json_chunked(path, chunk_size=1000):\n",
    "    with open(path, 'r', encoding='utf-8') as file:\n",
    "        for chunk in pd.read_json(file, lines=True, chunksize=chunk_size):\n",
    "            yield chunk\n",
    "\n",
    "df = pd.DataFrame()\n",
    "\n",
    "# Iterate through the chunks and drop the 'friends' column\n",
    "for chunk in read_json_chunked(json_file_path):\n",
    "    # Drop the 'friends' column if it exists\n",
    "    if 'friends' in chunk.columns:\n",
    "        chunk = chunk.drop(columns=['friends'])\n",
    "\n",
    "    df = pd.concat([df, chunk], ignore_index=True)\n",
    "\n",
    "print(df)"
   ]
  },
  {
   "cell_type": "code",
   "execution_count": 2,
   "outputs": [],
   "source": [
    "df.to_csv('C:\\\\Users\\\\kasun\\\\Downloads\\\\yelp\\\\data\\\\yelp_academic_dataset_user.csv')"
   ],
   "metadata": {
    "collapsed": false,
    "ExecuteTime": {
     "end_time": "2023-11-30T05:34:04.661269Z",
     "start_time": "2023-11-30T05:33:56.949458300Z"
    }
   }
  },
  {
   "cell_type": "code",
   "execution_count": 3,
   "outputs": [],
   "source": [
    "data = df"
   ],
   "metadata": {
    "collapsed": false,
    "ExecuteTime": {
     "end_time": "2023-11-30T05:34:07.892292800Z",
     "start_time": "2023-11-30T05:34:07.868297600Z"
    }
   }
  },
  {
   "cell_type": "code",
   "execution_count": 4,
   "outputs": [],
   "source": [
    "data['elite_years'] = data['elite'].apply(lambda x: len(str(x).split(',')) if pd.notna(x) and str(x).strip() else 0)\n"
   ],
   "metadata": {
    "collapsed": false,
    "ExecuteTime": {
     "end_time": "2023-11-30T05:34:13.264423500Z",
     "start_time": "2023-11-30T05:34:11.460070Z"
    }
   }
  },
  {
   "cell_type": "code",
   "execution_count": 6,
   "outputs": [
    {
     "data": {
      "text/plain": "                        user_id     name  review_count        yelping_since  \\\n0        qVc8ODYU5SZjKXVBgXdI7w   Walker           585  2007-01-25 16:47:26   \n1        j14WgRoU_-2ZE1aw1dXrJg   Daniel          4333  2009-01-25 04:35:42   \n2        2WnXYQFK0hXEoTxPtV2zvg    Steph           665  2008-07-25 10:41:00   \n3        SZDeASXq7o05mMNLshsdIA     Gwen           224  2005-11-29 04:38:33   \n4        hA5lMy-EnncsH4JoR-hFGQ    Karen            79  2007-01-05 19:40:59   \n...                         ...      ...           ...                  ...   \n1987892  fB3jbHi3m0L2KgGOxBv6uw  Jerrold            23  2015-01-06 00:31:31   \n1987893  68czcr4BxJyMQ9cJBm6C7Q     Jane             1  2016-06-14 07:20:52   \n1987894  1x3KMskYxOuJCjRz70xOqQ  Shomari             4  2017-02-04 15:31:58   \n1987895  ulfGl4tdbrH05xKzh5lnog  Susanne             2  2011-01-14 00:29:08   \n1987896  wL5jPrLRVCK_Pmo4lM1zpA      Isa             2  2020-12-19 02:32:39   \n\n         useful  funny   cool  \\\n0          7217   1259   5994   \n1         43091  13066  27281   \n2          2086   1010   1003   \n3           512    330    299   \n4            29     15      7   \n...         ...    ...    ...   \n1987892       7      0      0   \n1987893       0      0      0   \n1987894       1      1      0   \n1987895       0      0      0   \n1987896       0      0      0   \n\n                                                     elite  fans  \\\n0                                                     2007   267   \n1        2009,2010,2011,2012,2013,2014,2015,2016,2017,2...  3138   \n2                                 2009,2010,2011,2012,2013    52   \n3                                           2009,2010,2011    28   \n4                                                              1   \n...                                                    ...   ...   \n1987892                                                        0   \n1987893                                                        0   \n1987894                                                        0   \n1987895                                                        0   \n1987896                                                        0   \n\n         average_stars  ...  compliment_profile  compliment_cute  \\\n0                 3.91  ...                  55               56   \n1                 3.74  ...                 184              157   \n2                 3.32  ...                  10               17   \n3                 4.27  ...                   1                6   \n4                 3.54  ...                   0                0   \n...                ...  ...                 ...              ...   \n1987892           4.92  ...                   0                0   \n1987893           5.00  ...                   0                0   \n1987894           2.00  ...                   0                0   \n1987895           3.00  ...                   0                0   \n1987896           5.00  ...                   0                0   \n\n         compliment_list  compliment_note  compliment_plain  compliment_cool  \\\n0                     18              232               844              467   \n1                    251             1847              7054             3131   \n2                      3               66                96              119   \n3                      2               12                16               26   \n4                      0                1                 1                0   \n...                  ...              ...               ...              ...   \n1987892                0                0                 0                0   \n1987893                0                0                 0                0   \n1987894                0                0                 0                0   \n1987895                0                0                 0                0   \n1987896                0                0                 0                0   \n\n         compliment_funny  compliment_writer  compliment_photos  elite_years  \n0                     467                239                180            1  \n1                    3131               1521               1946           14  \n2                     119                 35                 18            5  \n3                      26                 10                  9            3  \n4                       0                  0                  0            0  \n...                   ...                ...                ...          ...  \n1987892                 0                  0                  0            0  \n1987893                 0                  0                  0            0  \n1987894                 0                  0                  0            0  \n1987895                 0                  0                  0            0  \n1987896                 0                  0                  0            0  \n\n[1987897 rows x 22 columns]",
      "text/html": "<div>\n<style scoped>\n    .dataframe tbody tr th:only-of-type {\n        vertical-align: middle;\n    }\n\n    .dataframe tbody tr th {\n        vertical-align: top;\n    }\n\n    .dataframe thead th {\n        text-align: right;\n    }\n</style>\n<table border=\"1\" class=\"dataframe\">\n  <thead>\n    <tr style=\"text-align: right;\">\n      <th></th>\n      <th>user_id</th>\n      <th>name</th>\n      <th>review_count</th>\n      <th>yelping_since</th>\n      <th>useful</th>\n      <th>funny</th>\n      <th>cool</th>\n      <th>elite</th>\n      <th>fans</th>\n      <th>average_stars</th>\n      <th>...</th>\n      <th>compliment_profile</th>\n      <th>compliment_cute</th>\n      <th>compliment_list</th>\n      <th>compliment_note</th>\n      <th>compliment_plain</th>\n      <th>compliment_cool</th>\n      <th>compliment_funny</th>\n      <th>compliment_writer</th>\n      <th>compliment_photos</th>\n      <th>elite_years</th>\n    </tr>\n  </thead>\n  <tbody>\n    <tr>\n      <th>0</th>\n      <td>qVc8ODYU5SZjKXVBgXdI7w</td>\n      <td>Walker</td>\n      <td>585</td>\n      <td>2007-01-25 16:47:26</td>\n      <td>7217</td>\n      <td>1259</td>\n      <td>5994</td>\n      <td>2007</td>\n      <td>267</td>\n      <td>3.91</td>\n      <td>...</td>\n      <td>55</td>\n      <td>56</td>\n      <td>18</td>\n      <td>232</td>\n      <td>844</td>\n      <td>467</td>\n      <td>467</td>\n      <td>239</td>\n      <td>180</td>\n      <td>1</td>\n    </tr>\n    <tr>\n      <th>1</th>\n      <td>j14WgRoU_-2ZE1aw1dXrJg</td>\n      <td>Daniel</td>\n      <td>4333</td>\n      <td>2009-01-25 04:35:42</td>\n      <td>43091</td>\n      <td>13066</td>\n      <td>27281</td>\n      <td>2009,2010,2011,2012,2013,2014,2015,2016,2017,2...</td>\n      <td>3138</td>\n      <td>3.74</td>\n      <td>...</td>\n      <td>184</td>\n      <td>157</td>\n      <td>251</td>\n      <td>1847</td>\n      <td>7054</td>\n      <td>3131</td>\n      <td>3131</td>\n      <td>1521</td>\n      <td>1946</td>\n      <td>14</td>\n    </tr>\n    <tr>\n      <th>2</th>\n      <td>2WnXYQFK0hXEoTxPtV2zvg</td>\n      <td>Steph</td>\n      <td>665</td>\n      <td>2008-07-25 10:41:00</td>\n      <td>2086</td>\n      <td>1010</td>\n      <td>1003</td>\n      <td>2009,2010,2011,2012,2013</td>\n      <td>52</td>\n      <td>3.32</td>\n      <td>...</td>\n      <td>10</td>\n      <td>17</td>\n      <td>3</td>\n      <td>66</td>\n      <td>96</td>\n      <td>119</td>\n      <td>119</td>\n      <td>35</td>\n      <td>18</td>\n      <td>5</td>\n    </tr>\n    <tr>\n      <th>3</th>\n      <td>SZDeASXq7o05mMNLshsdIA</td>\n      <td>Gwen</td>\n      <td>224</td>\n      <td>2005-11-29 04:38:33</td>\n      <td>512</td>\n      <td>330</td>\n      <td>299</td>\n      <td>2009,2010,2011</td>\n      <td>28</td>\n      <td>4.27</td>\n      <td>...</td>\n      <td>1</td>\n      <td>6</td>\n      <td>2</td>\n      <td>12</td>\n      <td>16</td>\n      <td>26</td>\n      <td>26</td>\n      <td>10</td>\n      <td>9</td>\n      <td>3</td>\n    </tr>\n    <tr>\n      <th>4</th>\n      <td>hA5lMy-EnncsH4JoR-hFGQ</td>\n      <td>Karen</td>\n      <td>79</td>\n      <td>2007-01-05 19:40:59</td>\n      <td>29</td>\n      <td>15</td>\n      <td>7</td>\n      <td></td>\n      <td>1</td>\n      <td>3.54</td>\n      <td>...</td>\n      <td>0</td>\n      <td>0</td>\n      <td>0</td>\n      <td>1</td>\n      <td>1</td>\n      <td>0</td>\n      <td>0</td>\n      <td>0</td>\n      <td>0</td>\n      <td>0</td>\n    </tr>\n    <tr>\n      <th>...</th>\n      <td>...</td>\n      <td>...</td>\n      <td>...</td>\n      <td>...</td>\n      <td>...</td>\n      <td>...</td>\n      <td>...</td>\n      <td>...</td>\n      <td>...</td>\n      <td>...</td>\n      <td>...</td>\n      <td>...</td>\n      <td>...</td>\n      <td>...</td>\n      <td>...</td>\n      <td>...</td>\n      <td>...</td>\n      <td>...</td>\n      <td>...</td>\n      <td>...</td>\n      <td>...</td>\n    </tr>\n    <tr>\n      <th>1987892</th>\n      <td>fB3jbHi3m0L2KgGOxBv6uw</td>\n      <td>Jerrold</td>\n      <td>23</td>\n      <td>2015-01-06 00:31:31</td>\n      <td>7</td>\n      <td>0</td>\n      <td>0</td>\n      <td></td>\n      <td>0</td>\n      <td>4.92</td>\n      <td>...</td>\n      <td>0</td>\n      <td>0</td>\n      <td>0</td>\n      <td>0</td>\n      <td>0</td>\n      <td>0</td>\n      <td>0</td>\n      <td>0</td>\n      <td>0</td>\n      <td>0</td>\n    </tr>\n    <tr>\n      <th>1987893</th>\n      <td>68czcr4BxJyMQ9cJBm6C7Q</td>\n      <td>Jane</td>\n      <td>1</td>\n      <td>2016-06-14 07:20:52</td>\n      <td>0</td>\n      <td>0</td>\n      <td>0</td>\n      <td></td>\n      <td>0</td>\n      <td>5.00</td>\n      <td>...</td>\n      <td>0</td>\n      <td>0</td>\n      <td>0</td>\n      <td>0</td>\n      <td>0</td>\n      <td>0</td>\n      <td>0</td>\n      <td>0</td>\n      <td>0</td>\n      <td>0</td>\n    </tr>\n    <tr>\n      <th>1987894</th>\n      <td>1x3KMskYxOuJCjRz70xOqQ</td>\n      <td>Shomari</td>\n      <td>4</td>\n      <td>2017-02-04 15:31:58</td>\n      <td>1</td>\n      <td>1</td>\n      <td>0</td>\n      <td></td>\n      <td>0</td>\n      <td>2.00</td>\n      <td>...</td>\n      <td>0</td>\n      <td>0</td>\n      <td>0</td>\n      <td>0</td>\n      <td>0</td>\n      <td>0</td>\n      <td>0</td>\n      <td>0</td>\n      <td>0</td>\n      <td>0</td>\n    </tr>\n    <tr>\n      <th>1987895</th>\n      <td>ulfGl4tdbrH05xKzh5lnog</td>\n      <td>Susanne</td>\n      <td>2</td>\n      <td>2011-01-14 00:29:08</td>\n      <td>0</td>\n      <td>0</td>\n      <td>0</td>\n      <td></td>\n      <td>0</td>\n      <td>3.00</td>\n      <td>...</td>\n      <td>0</td>\n      <td>0</td>\n      <td>0</td>\n      <td>0</td>\n      <td>0</td>\n      <td>0</td>\n      <td>0</td>\n      <td>0</td>\n      <td>0</td>\n      <td>0</td>\n    </tr>\n    <tr>\n      <th>1987896</th>\n      <td>wL5jPrLRVCK_Pmo4lM1zpA</td>\n      <td>Isa</td>\n      <td>2</td>\n      <td>2020-12-19 02:32:39</td>\n      <td>0</td>\n      <td>0</td>\n      <td>0</td>\n      <td></td>\n      <td>0</td>\n      <td>5.00</td>\n      <td>...</td>\n      <td>0</td>\n      <td>0</td>\n      <td>0</td>\n      <td>0</td>\n      <td>0</td>\n      <td>0</td>\n      <td>0</td>\n      <td>0</td>\n      <td>0</td>\n      <td>0</td>\n    </tr>\n  </tbody>\n</table>\n<p>1987897 rows × 22 columns</p>\n</div>"
     },
     "execution_count": 6,
     "metadata": {},
     "output_type": "execute_result"
    }
   ],
   "source": [
    "data"
   ],
   "metadata": {
    "collapsed": false,
    "ExecuteTime": {
     "end_time": "2023-11-30T05:34:23.271339Z",
     "start_time": "2023-11-30T05:34:21.935169600Z"
    }
   }
  },
  {
   "cell_type": "code",
   "execution_count": 7,
   "outputs": [],
   "source": [
    "data.drop(columns=['elite'], inplace=True)"
   ],
   "metadata": {
    "collapsed": false,
    "ExecuteTime": {
     "end_time": "2023-11-30T05:34:36.859800100Z",
     "start_time": "2023-11-30T05:34:36.566257800Z"
    }
   }
  },
  {
   "cell_type": "code",
   "execution_count": 8,
   "outputs": [],
   "source": [
    "data['yelping_since'] = pd.to_datetime(data['yelping_since'])"
   ],
   "metadata": {
    "collapsed": false,
    "ExecuteTime": {
     "end_time": "2023-11-30T05:34:40.507358500Z",
     "start_time": "2023-11-30T05:34:39.323298900Z"
    }
   }
  },
  {
   "cell_type": "code",
   "execution_count": 9,
   "outputs": [],
   "source": [
    "data['is_elite'] = data['elite_years'].apply(lambda x: 1 if x>0 else 0)"
   ],
   "metadata": {
    "collapsed": false,
    "ExecuteTime": {
     "end_time": "2023-11-30T05:34:42.502133Z",
     "start_time": "2023-11-30T05:34:42.090563500Z"
    }
   }
  },
  {
   "cell_type": "code",
   "execution_count": 10,
   "outputs": [],
   "source": [
    "from datetime import datetime\n",
    "current_date = datetime.now()\n",
    "data['years_on_platform'] = (current_date - data['yelping_since']).dt.days // 365"
   ],
   "metadata": {
    "collapsed": false,
    "ExecuteTime": {
     "end_time": "2023-11-30T05:34:44.912210Z",
     "start_time": "2023-11-30T05:34:44.836555800Z"
    }
   }
  },
  {
   "cell_type": "code",
   "execution_count": 11,
   "outputs": [],
   "source": [
    "data.drop(columns=['yelping_since'], inplace=True)"
   ],
   "metadata": {
    "collapsed": false,
    "ExecuteTime": {
     "end_time": "2023-11-30T05:34:47.562531600Z",
     "start_time": "2023-11-30T05:34:47.339299300Z"
    }
   }
  },
  {
   "cell_type": "code",
   "execution_count": 12,
   "outputs": [
    {
     "data": {
      "text/plain": "                        user_id     name  review_count  useful  funny   cool  \\\n0        qVc8ODYU5SZjKXVBgXdI7w   Walker           585    7217   1259   5994   \n1        j14WgRoU_-2ZE1aw1dXrJg   Daniel          4333   43091  13066  27281   \n2        2WnXYQFK0hXEoTxPtV2zvg    Steph           665    2086   1010   1003   \n3        SZDeASXq7o05mMNLshsdIA     Gwen           224     512    330    299   \n4        hA5lMy-EnncsH4JoR-hFGQ    Karen            79      29     15      7   \n...                         ...      ...           ...     ...    ...    ...   \n1987892  fB3jbHi3m0L2KgGOxBv6uw  Jerrold            23       7      0      0   \n1987893  68czcr4BxJyMQ9cJBm6C7Q     Jane             1       0      0      0   \n1987894  1x3KMskYxOuJCjRz70xOqQ  Shomari             4       1      1      0   \n1987895  ulfGl4tdbrH05xKzh5lnog  Susanne             2       0      0      0   \n1987896  wL5jPrLRVCK_Pmo4lM1zpA      Isa             2       0      0      0   \n\n         fans  average_stars  compliment_hot  compliment_more  ...  \\\n0         267           3.91             250               65  ...   \n1        3138           3.74            1145              264  ...   \n2          52           3.32              89               13  ...   \n3          28           4.27              24                4  ...   \n4           1           3.54               1                1  ...   \n...       ...            ...             ...              ...  ...   \n1987892     0           4.92               0                0  ...   \n1987893     0           5.00               0                0  ...   \n1987894     0           2.00               0                0  ...   \n1987895     0           3.00               0                0  ...   \n1987896     0           5.00               0                0  ...   \n\n         compliment_list  compliment_note  compliment_plain  compliment_cool  \\\n0                     18              232               844              467   \n1                    251             1847              7054             3131   \n2                      3               66                96              119   \n3                      2               12                16               26   \n4                      0                1                 1                0   \n...                  ...              ...               ...              ...   \n1987892                0                0                 0                0   \n1987893                0                0                 0                0   \n1987894                0                0                 0                0   \n1987895                0                0                 0                0   \n1987896                0                0                 0                0   \n\n         compliment_funny  compliment_writer  compliment_photos  elite_years  \\\n0                     467                239                180            1   \n1                    3131               1521               1946           14   \n2                     119                 35                 18            5   \n3                      26                 10                  9            3   \n4                       0                  0                  0            0   \n...                   ...                ...                ...          ...   \n1987892                 0                  0                  0            0   \n1987893                 0                  0                  0            0   \n1987894                 0                  0                  0            0   \n1987895                 0                  0                  0            0   \n1987896                 0                  0                  0            0   \n\n         is_elite  years_on_platform  \n0               1                 16  \n1               1                 14  \n2               1                 15  \n3               1                 18  \n4               0                 16  \n...           ...                ...  \n1987892         0                  8  \n1987893         0                  7  \n1987894         0                  6  \n1987895         0                 12  \n1987896         0                  2  \n\n[1987897 rows x 22 columns]",
      "text/html": "<div>\n<style scoped>\n    .dataframe tbody tr th:only-of-type {\n        vertical-align: middle;\n    }\n\n    .dataframe tbody tr th {\n        vertical-align: top;\n    }\n\n    .dataframe thead th {\n        text-align: right;\n    }\n</style>\n<table border=\"1\" class=\"dataframe\">\n  <thead>\n    <tr style=\"text-align: right;\">\n      <th></th>\n      <th>user_id</th>\n      <th>name</th>\n      <th>review_count</th>\n      <th>useful</th>\n      <th>funny</th>\n      <th>cool</th>\n      <th>fans</th>\n      <th>average_stars</th>\n      <th>compliment_hot</th>\n      <th>compliment_more</th>\n      <th>...</th>\n      <th>compliment_list</th>\n      <th>compliment_note</th>\n      <th>compliment_plain</th>\n      <th>compliment_cool</th>\n      <th>compliment_funny</th>\n      <th>compliment_writer</th>\n      <th>compliment_photos</th>\n      <th>elite_years</th>\n      <th>is_elite</th>\n      <th>years_on_platform</th>\n    </tr>\n  </thead>\n  <tbody>\n    <tr>\n      <th>0</th>\n      <td>qVc8ODYU5SZjKXVBgXdI7w</td>\n      <td>Walker</td>\n      <td>585</td>\n      <td>7217</td>\n      <td>1259</td>\n      <td>5994</td>\n      <td>267</td>\n      <td>3.91</td>\n      <td>250</td>\n      <td>65</td>\n      <td>...</td>\n      <td>18</td>\n      <td>232</td>\n      <td>844</td>\n      <td>467</td>\n      <td>467</td>\n      <td>239</td>\n      <td>180</td>\n      <td>1</td>\n      <td>1</td>\n      <td>16</td>\n    </tr>\n    <tr>\n      <th>1</th>\n      <td>j14WgRoU_-2ZE1aw1dXrJg</td>\n      <td>Daniel</td>\n      <td>4333</td>\n      <td>43091</td>\n      <td>13066</td>\n      <td>27281</td>\n      <td>3138</td>\n      <td>3.74</td>\n      <td>1145</td>\n      <td>264</td>\n      <td>...</td>\n      <td>251</td>\n      <td>1847</td>\n      <td>7054</td>\n      <td>3131</td>\n      <td>3131</td>\n      <td>1521</td>\n      <td>1946</td>\n      <td>14</td>\n      <td>1</td>\n      <td>14</td>\n    </tr>\n    <tr>\n      <th>2</th>\n      <td>2WnXYQFK0hXEoTxPtV2zvg</td>\n      <td>Steph</td>\n      <td>665</td>\n      <td>2086</td>\n      <td>1010</td>\n      <td>1003</td>\n      <td>52</td>\n      <td>3.32</td>\n      <td>89</td>\n      <td>13</td>\n      <td>...</td>\n      <td>3</td>\n      <td>66</td>\n      <td>96</td>\n      <td>119</td>\n      <td>119</td>\n      <td>35</td>\n      <td>18</td>\n      <td>5</td>\n      <td>1</td>\n      <td>15</td>\n    </tr>\n    <tr>\n      <th>3</th>\n      <td>SZDeASXq7o05mMNLshsdIA</td>\n      <td>Gwen</td>\n      <td>224</td>\n      <td>512</td>\n      <td>330</td>\n      <td>299</td>\n      <td>28</td>\n      <td>4.27</td>\n      <td>24</td>\n      <td>4</td>\n      <td>...</td>\n      <td>2</td>\n      <td>12</td>\n      <td>16</td>\n      <td>26</td>\n      <td>26</td>\n      <td>10</td>\n      <td>9</td>\n      <td>3</td>\n      <td>1</td>\n      <td>18</td>\n    </tr>\n    <tr>\n      <th>4</th>\n      <td>hA5lMy-EnncsH4JoR-hFGQ</td>\n      <td>Karen</td>\n      <td>79</td>\n      <td>29</td>\n      <td>15</td>\n      <td>7</td>\n      <td>1</td>\n      <td>3.54</td>\n      <td>1</td>\n      <td>1</td>\n      <td>...</td>\n      <td>0</td>\n      <td>1</td>\n      <td>1</td>\n      <td>0</td>\n      <td>0</td>\n      <td>0</td>\n      <td>0</td>\n      <td>0</td>\n      <td>0</td>\n      <td>16</td>\n    </tr>\n    <tr>\n      <th>...</th>\n      <td>...</td>\n      <td>...</td>\n      <td>...</td>\n      <td>...</td>\n      <td>...</td>\n      <td>...</td>\n      <td>...</td>\n      <td>...</td>\n      <td>...</td>\n      <td>...</td>\n      <td>...</td>\n      <td>...</td>\n      <td>...</td>\n      <td>...</td>\n      <td>...</td>\n      <td>...</td>\n      <td>...</td>\n      <td>...</td>\n      <td>...</td>\n      <td>...</td>\n      <td>...</td>\n    </tr>\n    <tr>\n      <th>1987892</th>\n      <td>fB3jbHi3m0L2KgGOxBv6uw</td>\n      <td>Jerrold</td>\n      <td>23</td>\n      <td>7</td>\n      <td>0</td>\n      <td>0</td>\n      <td>0</td>\n      <td>4.92</td>\n      <td>0</td>\n      <td>0</td>\n      <td>...</td>\n      <td>0</td>\n      <td>0</td>\n      <td>0</td>\n      <td>0</td>\n      <td>0</td>\n      <td>0</td>\n      <td>0</td>\n      <td>0</td>\n      <td>0</td>\n      <td>8</td>\n    </tr>\n    <tr>\n      <th>1987893</th>\n      <td>68czcr4BxJyMQ9cJBm6C7Q</td>\n      <td>Jane</td>\n      <td>1</td>\n      <td>0</td>\n      <td>0</td>\n      <td>0</td>\n      <td>0</td>\n      <td>5.00</td>\n      <td>0</td>\n      <td>0</td>\n      <td>...</td>\n      <td>0</td>\n      <td>0</td>\n      <td>0</td>\n      <td>0</td>\n      <td>0</td>\n      <td>0</td>\n      <td>0</td>\n      <td>0</td>\n      <td>0</td>\n      <td>7</td>\n    </tr>\n    <tr>\n      <th>1987894</th>\n      <td>1x3KMskYxOuJCjRz70xOqQ</td>\n      <td>Shomari</td>\n      <td>4</td>\n      <td>1</td>\n      <td>1</td>\n      <td>0</td>\n      <td>0</td>\n      <td>2.00</td>\n      <td>0</td>\n      <td>0</td>\n      <td>...</td>\n      <td>0</td>\n      <td>0</td>\n      <td>0</td>\n      <td>0</td>\n      <td>0</td>\n      <td>0</td>\n      <td>0</td>\n      <td>0</td>\n      <td>0</td>\n      <td>6</td>\n    </tr>\n    <tr>\n      <th>1987895</th>\n      <td>ulfGl4tdbrH05xKzh5lnog</td>\n      <td>Susanne</td>\n      <td>2</td>\n      <td>0</td>\n      <td>0</td>\n      <td>0</td>\n      <td>0</td>\n      <td>3.00</td>\n      <td>0</td>\n      <td>0</td>\n      <td>...</td>\n      <td>0</td>\n      <td>0</td>\n      <td>0</td>\n      <td>0</td>\n      <td>0</td>\n      <td>0</td>\n      <td>0</td>\n      <td>0</td>\n      <td>0</td>\n      <td>12</td>\n    </tr>\n    <tr>\n      <th>1987896</th>\n      <td>wL5jPrLRVCK_Pmo4lM1zpA</td>\n      <td>Isa</td>\n      <td>2</td>\n      <td>0</td>\n      <td>0</td>\n      <td>0</td>\n      <td>0</td>\n      <td>5.00</td>\n      <td>0</td>\n      <td>0</td>\n      <td>...</td>\n      <td>0</td>\n      <td>0</td>\n      <td>0</td>\n      <td>0</td>\n      <td>0</td>\n      <td>0</td>\n      <td>0</td>\n      <td>0</td>\n      <td>0</td>\n      <td>2</td>\n    </tr>\n  </tbody>\n</table>\n<p>1987897 rows × 22 columns</p>\n</div>"
     },
     "execution_count": 12,
     "metadata": {},
     "output_type": "execute_result"
    }
   ],
   "source": [
    "data"
   ],
   "metadata": {
    "collapsed": false,
    "ExecuteTime": {
     "end_time": "2023-11-30T05:34:50.234807200Z",
     "start_time": "2023-11-30T05:34:49.316840500Z"
    }
   }
  },
  {
   "cell_type": "code",
   "execution_count": 13,
   "outputs": [],
   "source": [
    "data.to_csv('C:\\\\Users\\\\KasunAbeyweera\\\\Downloads\\\\yelp\\\\yelp_dataset\\\\yelp_academic_dataset_user_preprocessed.csv')"
   ],
   "metadata": {
    "collapsed": false,
    "ExecuteTime": {
     "end_time": "2023-11-30T05:35:32.427348Z",
     "start_time": "2023-11-30T05:35:24.933912400Z"
    }
   }
  }
 ],
 "metadata": {
  "kernelspec": {
   "display_name": "Python 3",
   "language": "python",
   "name": "python3"
  },
  "language_info": {
   "codemirror_mode": {
    "name": "ipython",
    "version": 2
   },
   "file_extension": ".py",
   "mimetype": "text/x-python",
   "name": "python",
   "nbconvert_exporter": "python",
   "pygments_lexer": "ipython2",
   "version": "2.7.6"
  }
 },
 "nbformat": 4,
 "nbformat_minor": 0
}
